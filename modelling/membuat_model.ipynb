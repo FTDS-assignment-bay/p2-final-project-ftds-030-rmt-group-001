{
 "cells": [
  {
   "cell_type": "code",
   "execution_count": null,
   "metadata": {},
   "outputs": [],
   "source": [
    "# import library yang dibutuhkan\n",
    "import pandas as pd\n",
    "from sklearn.feature_extraction.text import TfidfVectorizer\n",
    "from sklearn.metrics.pairwise import cosine_similarity"
   ]
  },
  {
   "cell_type": "code",
   "execution_count": null,
   "metadata": {},
   "outputs": [],
   "source": [
    "# panggil dataset yang sudah dibersihkan\n",
    "df_clean =pd.read_csv('C:\\Veron\\Final Project\\deployment\\books_dataset_cleaned.csv')"
   ]
  },
  {
   "cell_type": "code",
   "execution_count": null,
   "metadata": {},
   "outputs": [],
   "source": [
    "# buat modelnya pakai TF-IDF\n",
    "tfidf = TfidfVectorizer(analyzer = 'word', ngram_range = (1, 2), min_df = 2, stop_words = \"english\")\n",
    "tfidf_desc = tfidf.fit(df_clean['full_desc'])"
   ]
  },
  {
   "cell_type": "code",
   "execution_count": null,
   "metadata": {},
   "outputs": [],
   "source": [
    "# input usernya\n",
    "user_input = input(\"Describe the book you are looking for: \")\n",
    "    \n",
    "# cek inputan user, kalau tidak kosong\n",
    "if user_input.strip():\n",
    "\n",
    "    # konversi input user jadi representasi TF-IDF\n",
    "    user_tfidf = tfidf_desc.transform([user_input])\n",
    "\n",
    "    # hitung similarity dengan deskripsi buku lain dalam dataset\n",
    "    similarities = cosine_similarity(user_tfidf, tfidf_desc.transform(df_clean['full_desc']))\n",
    "\n",
    "    # ambil top 5 buku dengan cosine similarity tertinggi dengan input user\n",
    "    top_indices = similarities.argsort()[0][-10:][::-1] \n",
    "\n",
    "    # munculkan hasil rekomendasi ke user\n",
    "    print(f'Input: {user_input}\\n')\n",
    "    print(\"From your input we can recommend:\\n\")\n",
    "    for idx in top_indices:\n",
    "        print(\"Title:\", df_clean.iloc[idx]['title'])\n",
    "        print(\"Author:\", df_clean.iloc[idx]['authors'])\n",
    "        print(\"Categories:\", df_clean.iloc[idx]['categories'])\n",
    "        print(\"Year Released:\", df_clean.iloc[idx]['published_year'])\n",
    "        print(\"Cosine Similarity:\", similarities[0][idx])\n",
    "        print() \n",
    "        \n",
    "# kalau user tidak memberi inputan\n",
    "else:\n",
    "    print('Please provide the description.')"
   ]
  },
  {
   "cell_type": "code",
   "execution_count": null,
   "metadata": {},
   "outputs": [],
   "source": [
    "# model saving\n",
    "import pickle\n",
    "with open('laibrarian.pkl', 'wb') as file_1: \n",
    "  pickle.dump(tfidf_desc, file_1)"
   ]
  }
 ],
 "metadata": {
  "language_info": {
   "name": "python"
  }
 },
 "nbformat": 4,
 "nbformat_minor": 2
}
